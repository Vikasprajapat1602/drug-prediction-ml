{
 "cells": [
  {
   "cell_type": "code",
   "execution_count": 42,
   "id": "f60dd7f5",
   "metadata": {},
   "outputs": [],
   "source": [
    "import pandas as pd\n",
    "import torch\n",
    "import torch.nn as nn\n",
    "import torch.optim as optim\n",
    "from sklearn.preprocessing import LabelEncoder, StandardScaler\n",
    "from sklearn.model_selection import train_test_split\n",
    "from sklearn.metrics import accuracy_score\n"
   ]
  },
  {
   "cell_type": "code",
   "execution_count": 43,
   "id": "99d3b4b1",
   "metadata": {},
   "outputs": [],
   "source": [
    "# Load Dataset 1\n",
    "df1 = pd.read_csv(r\"D:\\Internship_assignment\\drug_discovery_ml\\data\\drugs_data.csv\")\n",
    "\n",
    "# Encode categorical features\n",
    "from sklearn.preprocessing import LabelEncoder\n",
    "import pickle\n",
    "import os\n",
    "\n",
    "os.makedirs(\"models\", exist_ok=True)  # create models folder if not exists\n",
    "\n",
    "# Label Encoders\n",
    "le_sex = LabelEncoder()\n",
    "le_bp = LabelEncoder()\n",
    "le_chol = LabelEncoder()\n",
    "le_drug1 = LabelEncoder()\n",
    "\n",
    "# Fit + transform + save\n",
    "df1['Sex'] = le_sex.fit_transform(df1['Sex'])\n",
    "with open(\"models/le_sex.pkl\", \"wb\") as f:\n",
    "    pickle.dump(le_sex, f)\n",
    "\n",
    "df1['BP'] = le_bp.fit_transform(df1['BP'])\n",
    "with open(\"models/le_bp.pkl\", \"wb\") as f:\n",
    "    pickle.dump(le_bp, f)\n",
    "\n",
    "df1['Cholesterol'] = le_chol.fit_transform(df1['Cholesterol'])\n",
    "with open(\"models/le_chol.pkl\", \"wb\") as f:\n",
    "    pickle.dump(le_chol, f)\n",
    "\n",
    "df1['Drug'] = le_drug1.fit_transform(df1['Drug'])\n",
    "with open(\"models/le_drug1.pkl\", \"wb\") as f:\n",
    "    pickle.dump(le_drug1, f)\n",
    "\n",
    "# Features & labels\n",
    "X1 = df1.drop(\"Drug\", axis=1)\n",
    "y1 = df1[\"Drug\"]\n",
    "\n",
    "# Scale features\n",
    "from sklearn.preprocessing import StandardScaler\n",
    "scaler1 = StandardScaler()\n",
    "X1_scaled = scaler1.fit_transform(X1)\n",
    "\n",
    "# Convert to tensors\n",
    "import torch\n",
    "X1_tensor = torch.tensor(X1_scaled, dtype=torch.float32)\n",
    "y1_tensor = torch.tensor(y1.values, dtype=torch.long)\n"
   ]
  },
  {
   "cell_type": "code",
   "execution_count": 44,
   "id": "0231992e",
   "metadata": {},
   "outputs": [],
   "source": [
    "import pandas as pd\n",
    "import torch\n",
    "from sklearn.preprocessing import LabelEncoder, StandardScaler\n",
    "\n",
    "# Load dataset (use raw string for safe path)\n",
    "df2 = pd.read_csv(r\"D:\\Internship_assignment\\drug_discovery_ml\\data\\Drug_Consumption.csv\")\n",
    "\n",
    "# Select features (must match your dataset)\n",
    "features = ['Age', 'Gender', 'Education', 'Nscore', 'Escore', 'Oscore', 'Ascore', 'Cannabis']\n",
    "df2 = df2[features].dropna()\n",
    "\n",
    "# Label encode categorical features\n",
    "le_age = LabelEncoder()\n",
    "le_gender = LabelEncoder()\n",
    "le_edu = LabelEncoder()\n",
    "\n",
    "df2['Age'] = le_age.fit_transform(df2['Age'])\n",
    "df2['Gender'] = le_gender.fit_transform(df2['Gender'])\n",
    "df2['Education'] = le_edu.fit_transform(df2['Education'])\n",
    "\n",
    "# Map Cannabis to binary: 0 = non-user, 1 = user\n",
    "cannabis_mapping = {\n",
    "    'CL0': 0,\n",
    "    'CL1': 0,\n",
    "    'CL2': 1, 'CL3': 1, 'CL4': 1, 'CL5': 1, 'CL6': 1\n",
    "}\n",
    "df2['Cannabis'] = df2['Cannabis'].map(cannabis_mapping)\n",
    "\n",
    "# Feature matrix and label\n",
    "X2 = df2.drop(\"Cannabis\", axis=1)\n",
    "y2 = df2[\"Cannabis\"]\n",
    "\n",
    "# Scale features\n",
    "scaler2 = StandardScaler()\n",
    "X2_scaled = scaler2.fit_transform(X2)\n",
    "\n",
    "# Convert to PyTorch tensors\n",
    "X2_tensor = torch.tensor(X2_scaled, dtype=torch.float32)\n",
    "y2_tensor = torch.tensor(y2.values, dtype=torch.long)\n"
   ]
  },
  {
   "cell_type": "code",
   "execution_count": 45,
   "id": "2e59e015",
   "metadata": {},
   "outputs": [],
   "source": [
    "# Define PyTorch-based Neural Network\n",
    "import torch.nn as nn\n",
    "\n",
    "class DrugModel(nn.Module):\n",
    "    def __init__(self, input_size, output_size):\n",
    "        super(DrugModel, self).__init__()\n",
    "        self.net = nn.Sequential(\n",
    "            nn.Linear(input_size, 32),\n",
    "            nn.ReLU(),\n",
    "            nn.Linear(32, output_size)\n",
    "        )\n",
    "\n",
    "    def forward(self, x):\n",
    "        return self.net(x)\n"
   ]
  },
  {
   "cell_type": "code",
   "execution_count": 46,
   "id": "af9177aa",
   "metadata": {},
   "outputs": [
    {
     "name": "stdout",
     "output_type": "stream",
     "text": [
      "✅ Model trained on Dataset 1 (drugs_data.csv)\n"
     ]
    }
   ],
   "source": [
    "# Train using Dataset 1\n",
    "X1_train, X1_test, y1_train, y1_test = train_test_split(X1_tensor, y1_tensor, test_size=0.2, random_state=42)\n",
    "\n",
    "model1 = DrugModel(input_size=X1_train.shape[1], output_size=len(y1.unique()))\n",
    "loss_fn = nn.CrossEntropyLoss()\n",
    "optimizer = optim.Adam(model1.parameters(), lr=0.001)\n",
    "\n",
    "# Training loop\n",
    "for epoch in range(100):\n",
    "    model1.train()\n",
    "    optimizer.zero_grad()\n",
    "    out = model1(X1_train)\n",
    "    loss = loss_fn(out, y1_train)\n",
    "    loss.backward()\n",
    "    optimizer.step()\n",
    "\n",
    "print(\"✅ Model trained on Dataset 1 (drugs_data.csv)\")\n"
   ]
  },
  {
   "cell_type": "code",
   "execution_count": 47,
   "id": "fc4696d8",
   "metadata": {},
   "outputs": [
    {
     "name": "stdout",
     "output_type": "stream",
     "text": [
      "📊 Accuracy on Dataset 1: 56.67%\n"
     ]
    }
   ],
   "source": [
    "# Evaluate on Dataset 1\n",
    "model1.eval()\n",
    "with torch.no_grad():\n",
    "    y1_pred = torch.argmax(model1(X1_test), dim=1)\n",
    "\n",
    "acc1 = accuracy_score(y1_test.numpy(), y1_pred.numpy())\n",
    "print(f\"📊 Accuracy on Dataset 1: {acc1 * 100:.2f}%\")\n"
   ]
  },
  {
   "cell_type": "code",
   "execution_count": 48,
   "id": "4df9aeb1",
   "metadata": {},
   "outputs": [
    {
     "name": "stdout",
     "output_type": "stream",
     "text": [
      "✅ Model trained on Dataset 2 (Drug_Consumption.csv)\n"
     ]
    }
   ],
   "source": [
    "# Train using Dataset 2\n",
    "X2_train, X2_test, y2_train, y2_test = train_test_split(X2_tensor, y2_tensor, test_size=0.2, random_state=42)\n",
    "\n",
    "model2 = DrugModel(input_size=X2_train.shape[1], output_size=2)  # Binary classification\n",
    "loss_fn2 = nn.CrossEntropyLoss()\n",
    "optimizer2 = optim.Adam(model2.parameters(), lr=0.001)\n",
    "\n",
    "# Training loop\n",
    "for epoch in range(100):\n",
    "    model2.train()\n",
    "    optimizer2.zero_grad()\n",
    "    out = model2(X2_train)\n",
    "    loss = loss_fn2(out, y2_train)\n",
    "    loss.backward()\n",
    "    optimizer2.step()\n",
    "\n",
    "print(\"✅ Model trained on Dataset 2 (Drug_Consumption.csv)\")\n"
   ]
  },
  {
   "cell_type": "code",
   "execution_count": 49,
   "id": "2f4a0329",
   "metadata": {},
   "outputs": [
    {
     "name": "stdout",
     "output_type": "stream",
     "text": [
      "📊 Accuracy on Dataset 2: 77.72%\n"
     ]
    }
   ],
   "source": [
    "# Evaluate on Dataset 2\n",
    "model2.eval()\n",
    "with torch.no_grad():\n",
    "    y2_pred = torch.argmax(model2(X2_test), dim=1)\n",
    "\n",
    "acc2 = accuracy_score(y2_test.numpy(), y2_pred.numpy())\n",
    "print(f\"📊 Accuracy on Dataset 2: {acc2 * 100:.2f}%\")\n"
   ]
  },
  {
   "cell_type": "code",
   "execution_count": 50,
   "id": "da594315",
   "metadata": {},
   "outputs": [
    {
     "name": "stdout",
     "output_type": "stream",
     "text": [
      "💾 Saved model1 to models/drug_model.pth\n"
     ]
    }
   ],
   "source": [
    "# Save model trained on drugs_data.csv\n",
    "torch.save(model1.state_dict(), \"../models/drug_model.pth\")\n",
    "print(\"💾 Saved model1 to models/drug_model.pth\")\n"
   ]
  },
  {
   "cell_type": "code",
   "execution_count": 51,
   "id": "d73d216f",
   "metadata": {},
   "outputs": [
    {
     "name": "stdout",
     "output_type": "stream",
     "text": [
      "✅ cannabis_model.pth saved successfully!\n"
     ]
    }
   ],
   "source": [
    "import os\n",
    "import torch \n",
    "os.makedirs(\"../models\", exist_ok=True)\n",
    "\n",
    "# Save the trained cannabis model\n",
    "torch.save(model2.state_dict(), \"../models/cannabis_model.pth\")\n",
    "print(\"✅ cannabis_model.pth saved successfully!\")\n"
   ]
  }
 ],
 "metadata": {
  "kernelspec": {
   "display_name": "venv (3.13.5)",
   "language": "python",
   "name": "python3"
  },
  "language_info": {
   "codemirror_mode": {
    "name": "ipython",
    "version": 3
   },
   "file_extension": ".py",
   "mimetype": "text/x-python",
   "name": "python",
   "nbconvert_exporter": "python",
   "pygments_lexer": "ipython3",
   "version": "3.13.5"
  }
 },
 "nbformat": 4,
 "nbformat_minor": 5
}
